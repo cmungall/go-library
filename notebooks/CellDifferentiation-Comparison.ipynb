{
 "cells": [
  {
   "cell_type": "markdown",
   "id": "babe650f",
   "metadata": {},
   "source": [
    "# Cell Differentiation GO analysis\n",
    "\n",
    "This analysis is to support https://github.com/geneontology/go-ontology/issues/24390\n",
    "\n",
    "The goal here is to explore\n",
    "\n",
    " - consistent population of terms in \"cell differentiation\" patterns in the ontology\n",
    " - consistency of annotation of terms at different levels\n",
    " \n",
    "This is to help us decide on how to best patternize differentiation. Ideally:\n",
    "\n",
    " 1. We should consistently populate terms\n",
    " 2. We should consistently annotate terms\n",
    "\n",
    "\n",
    "__NOTE FOR ONTOLOGY EDITORS__ This is a Jupyter notebook. You do not need to understand any of the code here.\n",
    "The notebook form makes the generation of the stats here reproducible and transparent. Any member of the GO\n",
    "software team can help you run this for yourself, or tweak settings.\n",
    "\n",
    "Scroll to the bottom for the main results.\n",
    "\n"
   ]
  },
  {
   "cell_type": "markdown",
   "id": "32656a0e",
   "metadata": {},
   "source": [
    "## Initial setup\n",
    "\n",
    "Here we import the necessary libraries:\n",
    "    \n",
    " 1. OAK, for ontology querying (labels and logical definitions)\n",
    " 2. go_library, for annotation querying"
   ]
  },
  {
   "cell_type": "code",
   "execution_count": 41,
   "id": "2669b180",
   "metadata": {},
   "outputs": [],
   "source": [
    "from oaklib.selector import get_implementation_from_shorthand\n",
    "from oaklib.datamodels.vocabulary import IS_A, PART_OF"
   ]
  },
  {
   "cell_type": "code",
   "execution_count": 14,
   "id": "0c076611",
   "metadata": {},
   "outputs": [],
   "source": [
    "oi = get_implementation_from_shorthand(\"sqlite:obo:go\")"
   ]
  },
  {
   "cell_type": "code",
   "execution_count": 1,
   "id": "5f28652f",
   "metadata": {},
   "outputs": [],
   "source": [
    "from go_library.datamodel.amigo_solr_api import AmigoSolrAPI\n",
    "from go_library.amigo_solr.engine import create_handle\n",
    "from go_library.datamodel.amigo_solr import Annotation, Bioentity"
   ]
  },
  {
   "cell_type": "code",
   "execution_count": 2,
   "id": "e124c122",
   "metadata": {},
   "outputs": [],
   "source": [
    "amigo = create_handle()"
   ]
  },
  {
   "cell_type": "code",
   "execution_count": 3,
   "id": "bb74feac",
   "metadata": {},
   "outputs": [],
   "source": [
    "HUMAN = 'NCBITaxon:9606'"
   ]
  },
  {
   "cell_type": "markdown",
   "id": "dccff5d2",
   "metadata": {},
   "source": [
    "## IBA summaries\n",
    "\n",
    "We write a convenience method to fetch IBA stats from AmiGO.\n",
    "\n",
    "The intuition here is that terms annotated with IBA have been deemed to be trustworthy of propagation"
   ]
  },
  {
   "cell_type": "code",
   "execution_count": 76,
   "id": "28654117",
   "metadata": {},
   "outputs": [
    {
     "data": {
      "text/plain": [
       "(14, 0)"
      ]
     },
     "execution_count": 76,
     "metadata": {},
     "output_type": "execute_result"
    }
   ],
   "source": [
    "def get_IBA_summary(term, taxon):\n",
    "    \"\"\"\n",
    "    Returns: (total_anns, anns_to_IBA)\n",
    "    \"\"\"\n",
    "    solr_params = {'facet': 'on',\n",
    "                   'facet.mincount': 1,\n",
    "                   'facet.field': ['evidence_type'],\n",
    "                   'rows': 0}\n",
    "    results = amigo.query_engine.search(Annotation,\n",
    "                                                     solr_params=solr_params,\n",
    "                                                     isa_partof_closure=term,\n",
    "                                                     taxon=taxon)\n",
    "    return results.num_found, results.facet_counts['evidence_type'].get('IBA', 0)\n",
    "\n",
    "\n",
    "# test with an example term\n",
    "get_IBA_summary(\"GO:0060911\", HUMAN)\n",
    "    "
   ]
  },
  {
   "cell_type": "markdown",
   "id": "93e47949",
   "metadata": {},
   "source": [
    "## Convenience function to fetch genes"
   ]
  },
  {
   "cell_type": "code",
   "execution_count": 8,
   "id": "1df74ffa",
   "metadata": {},
   "outputs": [
    {
     "data": {
      "text/plain": [
       "['UniProtKB:P56704',\n",
       " 'UniProtKB:Q9H6I2',\n",
       " 'UniProtKB:P19544',\n",
       " 'UniProtKB:O15119',\n",
       " 'UniProtKB:P61371',\n",
       " 'UniProtKB:P05556',\n",
       " 'UniProtKB:Q04771',\n",
       " 'UniProtKB:O95935',\n",
       " 'UniProtKB:Q9H1J5',\n",
       " 'UniProtKB:P52952',\n",
       " 'UniProtKB:Q9BRJ9',\n",
       " 'UniProtKB:Q6N022',\n",
       " 'UniProtKB:Q99593']"
      ]
     },
     "execution_count": 8,
     "metadata": {},
     "output_type": "execute_result"
    }
   ],
   "source": [
    "def get_genes(term, taxon):\n",
    "    results = amigo.query_engine.search(Bioentity,\n",
    "                                                     solr_params={'fl':'id', 'rows': 10000},\n",
    "                                                     isa_partof_closure=term,\n",
    "                                                     taxon=taxon)\n",
    "    return [e.id for e in results.items]\n",
    "\n",
    "get_genes(\"GO:0060911\", HUMAN)"
   ]
  },
  {
   "cell_type": "markdown",
   "id": "9379f273",
   "metadata": {},
   "source": [
    "## Upset plots\n",
    "\n",
    "These are superior to Venn diagrams in that they can show intersection between arbitrary numbers of sets.\n",
    "\n",
    "We will use these to explore how often the same gene is populated to different terms"
   ]
  },
  {
   "cell_type": "code",
   "execution_count": 77,
   "id": "edf207d2",
   "metadata": {},
   "outputs": [],
   "source": [
    "from ipywidgets import interact\n",
    "from upsetjs_jupyter_widget import UpSetJSWidget\n",
    "import pandas as pd"
   ]
  },
  {
   "cell_type": "code",
   "execution_count": 78,
   "id": "5a88cf3e",
   "metadata": {},
   "outputs": [],
   "source": [
    "w = UpSetJSWidget[str]()"
   ]
  },
  {
   "cell_type": "code",
   "execution_count": 64,
   "id": "ec67b8cd",
   "metadata": {},
   "outputs": [],
   "source": [
    "def compare_set(terms, taxon):\n",
    "    results = {}\n",
    "    for term in terms:\n",
    "        label = oi.label(term)\n",
    "        genes = get_genes(term, taxon)\n",
    "        results[label] = genes\n",
    "    return w.from_dict(results)\n"
   ]
  },
  {
   "cell_type": "code",
   "execution_count": 79,
   "id": "c814d882",
   "metadata": {},
   "outputs": [
    {
     "data": {
      "application/vnd.jupyter.widget-view+json": {
       "model_id": "5fbaa6af6810496ba72ba13a2663be7a",
       "version_major": 2,
       "version_minor": 0
      },
      "text/plain": [
       "UpSetJSWidget(value=None, combinations=[UpSetSetIntersection(name=cardiac cell fate commitment, sets={'cardiac…"
      ]
     },
     "execution_count": 79,
     "metadata": {},
     "output_type": "execute_result"
    },
    {
     "name": "stderr",
     "output_type": "stream",
     "text": [
      "WARNING:Comm:No such comm: 5fbaa6af6810496ba72ba13a2663be7a\n",
      "WARNING:Comm:No such comm: 5fbaa6af6810496ba72ba13a2663be7a\n",
      "WARNING:Comm:No such comm: 5fbaa6af6810496ba72ba13a2663be7a\n",
      "WARNING:Comm:No such comm: 5fbaa6af6810496ba72ba13a2663be7a\n",
      "WARNING:Comm:No such comm: 5fbaa6af6810496ba72ba13a2663be7a\n",
      "WARNING:Comm:No such comm: 5fbaa6af6810496ba72ba13a2663be7a\n",
      "WARNING:Comm:No such comm: 5fbaa6af6810496ba72ba13a2663be7a\n",
      "WARNING:Comm:No such comm: 5fbaa6af6810496ba72ba13a2663be7a\n",
      "WARNING:Comm:No such comm: 5fbaa6af6810496ba72ba13a2663be7a\n",
      "WARNING:Comm:No such comm: 5fbaa6af6810496ba72ba13a2663be7a\n",
      "WARNING:Comm:No such comm: 5fbaa6af6810496ba72ba13a2663be7a\n",
      "WARNING:Comm:No such comm: 5fbaa6af6810496ba72ba13a2663be7a\n",
      "WARNING:Comm:No such comm: 5fbaa6af6810496ba72ba13a2663be7a\n",
      "WARNING:Comm:No such comm: 5fbaa6af6810496ba72ba13a2663be7a\n"
     ]
    }
   ],
   "source": [
    "compare_set([\"GO:0060911\", \"GO:0060912\"], HUMAN)"
   ]
  },
  {
   "cell_type": "markdown",
   "id": "99faac87",
   "metadata": {},
   "source": [
    "## Cell Differentiation logical definitions\n",
    "\n",
    "Here we fetch all cell differentiation descendants over is-a and part-of, and get all logical\n",
    "definitions that reference a cell type"
   ]
  },
  {
   "cell_type": "code",
   "execution_count": 42,
   "id": "d4d0150a",
   "metadata": {},
   "outputs": [],
   "source": [
    "CELL_DIFFERENTIATION = \"GO:0030154\"\n",
    "terms = list(oi.descendants(CELL_DIFFERENTIATION, predicates=[IS_A, PART_OF]))"
   ]
  },
  {
   "cell_type": "code",
   "execution_count": 43,
   "id": "5d841d5f",
   "metadata": {},
   "outputs": [],
   "source": [
    "ldefs = list(oi.logical_definitions(terms))"
   ]
  },
  {
   "cell_type": "code",
   "execution_count": 44,
   "id": "b549418c",
   "metadata": {},
   "outputs": [
    {
     "data": {
      "text/plain": [
       "589"
      ]
     },
     "execution_count": 44,
     "metadata": {},
     "output_type": "execute_result"
    }
   ],
   "source": [
    "# check how many\n",
    "len(ldefs)"
   ]
  },
  {
   "cell_type": "code",
   "execution_count": 80,
   "id": "852c084c",
   "metadata": {},
   "outputs": [
    {
     "name": "stdout",
     "output_type": "stream",
     "text": [
      "262\n"
     ]
    }
   ],
   "source": [
    "# index by cell type\n",
    "from collections import defaultdict\n",
    "\n",
    "ldef_by_cell = defaultdict(list)\n",
    "for ldef in ldefs:\n",
    "    if len(ldef.restrictions) != 1:\n",
    "        continue\n",
    "    cell = ldef.restrictions[0].fillerId\n",
    "    if not cell.startswith(\"CL:\") and not cell.startswith(\"PO:\") and not cell.startswith(\"FAO:\"):\n",
    "        continue\n",
    "    ldef_by_cell[cell].append(ldef)\n",
    "print(len(ldef_by_cell))"
   ]
  },
  {
   "cell_type": "code",
   "execution_count": 50,
   "id": "53ab200b",
   "metadata": {},
   "outputs": [],
   "source": [
    "# filter to only cell types that have >1 associated logical definition\n",
    "ldef_by_cell = {k: v for k, v in ldef_by_cell.items() if len(v) > 1}"
   ]
  },
  {
   "cell_type": "markdown",
   "id": "340e31ee",
   "metadata": {},
   "source": [
    "## Summarize Logical Definitions indexed by Cell Type\n",
    "\n",
    " - **TODO** make this prettier\n",
    " - **TODO** filter to get only differentiation DPs (diff, fate commitment, specification, maturation, ...)"
   ]
  },
  {
   "cell_type": "code",
   "execution_count": 82,
   "id": "bd6dcf56",
   "metadata": {},
   "outputs": [
    {
     "name": "stdout",
     "output_type": "stream",
     "text": [
      "  CL:0000726 chlamydospore : 1 -- ['asexual sporulation resulting in formation of a cellular spore']\n",
      "  CL:0000540 neuron : 3 -- ['cell migration', 'cell recognition', 'developmental maturation']\n",
      "  CL:0000623 natural killer cell : 1 -- ['cell differentiation']\n",
      "  CL:2000020 inner cell mass cell : 2 -- ['cell differentiation', 'cell fate commitment']\n",
      "  CL:1000274 trophectodermal cell : 3 -- ['cell differentiation', 'cell fate commitment', 'anatomical structure morphogenesis']\n",
      "  CL:0000814 mature NK T cell : 2 -- ['cell differentiation', 'cell fate commitment']\n",
      "  CL:0000115 endothelial cell : 3 -- ['developmental process', 'anatomical structure morphogenesis', 'cell differentiation']\n",
      "  CL:0000819 B-1 B cell : 2 -- ['cell differentiation', 'cell fate commitment']\n",
      "  CL:2000021 sebaceous gland cell : 1 -- ['cell differentiation']\n",
      "  CL:0000062 osteoblast : 2 -- ['cell fate commitment', 'developmental process']\n",
      "  CL:0000138 chondrocyte : 3 -- ['cell differentiation', 'developmental process', 'anatomical structure morphogenesis']\n",
      "  CL:0000066 epithelial cell : 4 -- ['developmental process', 'developmental maturation', 'anatomical structure morphogenesis', 'cell differentiation']\n",
      "  CL:0000075 columnar/cuboidal epithelial cell : 3 -- ['cell differentiation', 'developmental process', 'developmental maturation']\n",
      "  CL:0000150 glandular epithelial cell : 3 -- ['cell differentiation', 'developmental process', 'developmental maturation']\n",
      "  CL:0000202 auditory hair cell : 3 -- ['anatomical structure morphogenesis', 'cell differentiation', 'developmental process']\n",
      "  CL:0000796 CD8-alpha-beta-positive, alpha-beta intraepithelial T cell : 1 -- ['cell differentiation']\n",
      "  CL:0000793 CD4-positive, alpha-beta intraepithelial T cell : 1 -- ['cell differentiation']\n",
      "  CL:0000801 gamma-delta intraepithelial T cell : 1 -- ['cell differentiation']\n",
      "  CL:0000802 CD8-alpha alpha positive, gamma-delta intraepithelial T cell : 1 -- ['cell differentiation']\n",
      "  CL:0000803 CD4-negative CD8-negative gamma-delta intraepithelial T cell : 1 -- ['cell differentiation']\n",
      "  CL:0000795 CD8-positive, alpha-beta regulatory T cell : 1 -- ['cell differentiation']\n",
      "  CL:0000794 CD8-positive, alpha-beta cytotoxic T cell : 1 -- ['cell differentiation']\n",
      "  CL:0000844 germinal center B cell : 1 -- ['cell differentiation']\n",
      "  CL:0000845 marginal zone B cell of spleen : 1 -- ['cell differentiation']\n",
      "  CL:0000843 follicular B cell : 1 -- ['cell differentiation']\n",
      "  CL:0000786 plasma cell : 1 -- ['cell differentiation']\n",
      "  CL:0000839 myeloid lineage restricted progenitor cell : 1 -- ['cell differentiation']\n",
      "  CL:0000787 memory B cell : 1 -- ['cell differentiation']\n",
      "  CL:0000838 lymphoid lineage restricted progenitor cell : 1 -- ['cell differentiation']\n",
      "  CL:0000825 pro-NK cell : 1 -- ['cell differentiation']\n",
      "  CL:0000236 B cell : 1 -- ['cell fate commitment']\n",
      "  CL:0000816 immature B cell : 1 -- ['cell differentiation']\n",
      "  CL:0000826 pro-B cell : 1 -- ['cell differentiation']\n",
      "  CL:0000817 precursor B cell : 1 -- ['cell differentiation']\n",
      "  CL:0000818 transitional stage B cell : 1 -- ['cell differentiation']\n",
      "  CL:0000785 mature B cell : 1 -- ['cell differentiation']\n",
      "  CL:0000820 B-1a B cell : 1 -- ['cell differentiation']\n",
      "  CL:0000821 B-1b B cell : 1 -- ['cell differentiation']\n",
      "  CL:0000084 T cell : 2 -- ['cell fate commitment', 'cell differentiation']\n",
      "  CL:0000792 CD4-positive, CD25-positive, alpha-beta regulatory T cell : 2 -- ['cell differentiation', 'cell fate commitment']\n",
      "  CL:0000789 alpha-beta T cell : 2 -- ['cell fate commitment', 'cell differentiation']\n",
      "  CL:0000798 gamma-delta T cell : 2 -- ['cell fate commitment', 'cell differentiation']\n",
      "  CL:0010005 atrioventricular bundle cell : 1 -- ['cell differentiation']\n",
      "  CL:0002068 Purkinje myocyte : 1 -- ['cell differentiation']\n",
      "  CL:0000169 type B pancreatic cell : 3 -- ['cell differentiation', 'developmental process', 'cell fate commitment']\n",
      "  CL:0000171 pancreatic A cell : 3 -- ['cell differentiation', 'developmental process', 'cell fate commitment']\n",
      "  CL:0000173 pancreatic D cell : 3 -- ['cell differentiation', 'developmental process', 'cell fate commitment']\n",
      "  CL:0002275 pancreatic PP cell : 3 -- ['cell differentiation', 'cell development', 'cell fate commitment']\n",
      "  CL:0000312 keratinocyte : 2 -- ['developmental process', 'cell differentiation']\n",
      "  CL:0002153 corneocyte : 1 -- ['anatomical structure development']\n",
      "  CL:0010008 cardiac endothelial cell : 1 -- ['cell differentiation']\n",
      "  CL:0008025 noradrenergic neuron : 3 -- ['cell differentiation', 'developmental process', 'cell fate commitment']\n",
      "  CL:1000217 growth plate cartilage chondrocyte : 3 -- ['cell differentiation', 'growth', 'cell development']\n",
      "  CL:0000301 pole cell : 3 -- ['developmental process', 'cell fate determination', 'anatomical structure formation involved in morphogenesis']\n",
      "  CL:0000586 germ cell : 2 -- ['developmental process', 'programmed cell death']\n",
      "  CL:0000722 cystoblast : 1 -- ['asymmetric cell division']\n",
      "  CL:0000656 primary spermatocyte : 1 -- ['growth']\n",
      "  CL:0000018 spermatid : 1 -- ['developmental process']\n",
      "  CL:0000019 sperm : 1 -- ['axoneme assembly']\n",
      "  CL:0000477 ovarian follicle cell : 2 -- ['cell migration', 'cell development']\n",
      "  CL:0000579 border follicle cell : 2 -- ['cell migration', 'delamination']\n",
      "  CL:0000023 oocyte : 8 -- ['developmental process', 'axis specification', 'dorsal/ventral axis specification', 'anterior/posterior axis specification', 'cell fate determination', 'localization', 'cell fate commitment', 'anatomical structure morphogenesis']\n",
      "  CL:0000100 motor neuron : 2 -- ['axon guidance', 'cell migration']\n",
      "  CL:0000125 glial cell : 4 -- ['cell migration', 'cell differentiation', 'biological_process', 'growth']\n",
      "  CL:0002664 cardioblast : 1 -- ['cell differentiation']\n",
      "  PO:0025545 anther wall tapetum cell : 1 -- ['cell fate specification']\n",
      "  PO:0000293 guard cell : 3 -- ['cell fate commitment', 'anatomical structure development', 'anatomical structure morphogenesis']\n",
      "  PO:0000351 guard mother cell : 1 -- ['cell differentiation']\n",
      "  PO:0020047 microsporocyte : 1 -- ['cell differentiation']\n",
      "  CL:0000221 ectodermal cell : 1 -- ['cell differentiation']\n",
      "  CL:0000517 macrophage derived foam cell : 1 -- ['cell differentiation']\n",
      "  CL:0011001 spinal cord motor neuron : 3 -- ['cell fate specification', 'cell differentiation', 'cell migration']\n",
      "  CL:0005024 somatomotor neuron : 1 -- ['cell differentiation']\n",
      "  CL:0011002 lateral motor column neuron : 2 -- ['cell differentiation', 'cell migration']\n",
      "  CL:1000073 spinal cord radial glial cell : 1 -- ['cell differentiation']\n",
      "  CL:0010011 cerebral cortex GABAergic interneuron : 4 -- ['cell migration', 'cell differentiation', 'cell fate commitment', 'developmental process']\n",
      "  CL:0000598 pyramidal neuron : 2 -- ['cell differentiation', 'developmental process']\n",
      "  CL:0013000 forebrain radial glial cell : 1 -- ['cell differentiation']\n",
      "  CL:1000042 forebrain neuroblast : 1 -- ['cell differentiation']\n",
      "  CL:0000695 Cajal-Retzius cell : 1 -- ['cell differentiation']\n",
      "  CL:0012001 neuron of the forebrain : 2 -- ['cell differentiation', 'cell development']\n",
      "  CL:1001434 olfactory bulb interneuron : 3 -- ['cell differentiation', 'cell fate commitment', 'cell development']\n",
      "  CL:0010012 cerebral cortex neuron : 1 -- ['cell differentiation']\n",
      "  CL:0012000 astrocyte of the forebrain : 2 -- ['cell differentiation', 'cell development']\n",
      "  CL:2000029 central nervous system neuron : 2 -- ['cell differentiation', 'cell development']\n",
      "  PO:0020097 generative cell : 1 -- ['cell differentiation']\n",
      "  PO:0020099 microgametophyte vegetative cell : 1 -- ['cell differentiation']\n",
      "  CL:0000542 lymphocyte : 1 -- ['cell differentiation']\n",
      "  CL:0000763 myeloid cell : 2 -- ['cell differentiation', 'cell development']\n",
      "  CL:0000232 erythrocyte : 3 -- ['cell differentiation', 'developmental maturation', 'developmental process']\n",
      "  CL:0000556 megakaryocyte : 2 -- ['cell differentiation', 'anatomical structure development']\n",
      "  CL:0000233 platelet : 1 -- ['anatomical structure formation involved in morphogenesis']\n",
      "  CL:0000767 basophil : 1 -- ['cell differentiation']\n",
      "  CL:0000771 eosinophil : 4 -- ['cell differentiation', 'cell fate commitment', 'cell fate specification', 'cell fate determination']\n",
      "  CL:0000775 neutrophil : 1 -- ['cell differentiation']\n",
      "  CL:0000576 monocyte : 1 -- ['cell differentiation']\n",
      "  CL:0000235 macrophage : 1 -- ['cell differentiation']\n",
      "  CL:0000092 osteoclast : 2 -- ['cell differentiation', 'developmental maturation']\n",
      "  CL:0000148 melanocyte : 1 -- ['cell differentiation']\n",
      "  CL:0000094 granulocyte : 1 -- ['cell differentiation']\n",
      "  CL:0000740 retinal ganglion cell : 1 -- ['axon guidance']\n",
      "  CL:0000178 Leydig cell : 1 -- ['cell differentiation']\n",
      "  CL:0000615 basidiospore : 1 -- ['anatomical structure formation involved in morphogenesis']\n",
      "  CL:0000608 zygospore : 1 -- ['anatomical structure formation involved in morphogenesis']\n",
      "  CL:0000563 endospore : 1 -- ['asexual sporulation resulting in formation of a cellular spore']\n",
      "  CL:0002630 actinomycete-type spore : 1 -- ['asexual sporulation resulting in formation of a cellular spore']\n",
      "  CL:0000715 embryonic crystal cell : 1 -- ['cell differentiation']\n",
      "  CL:0000735 lymph gland hemocyte : 1 -- ['cell differentiation']\n",
      "  CL:0000733 lymph gland plasmatocyte : 1 -- ['cell differentiation']\n",
      "  CL:0000716 lymph gland crystal cell : 1 -- ['cell differentiation']\n",
      "  CL:0000396 lamellocyte : 1 -- ['cell differentiation']\n",
      "  CL:0002504 enteric smooth muscle cell : 1 -- ['cell differentiation']\n",
      "  CL:0000856 neuromast hair cell : 3 -- ['anatomical structure development', 'anatomical structure morphogenesis', 'cell differentiation']\n",
      "  CL:2000034 anterior lateral line neuromast hair cell : 2 -- ['cell development', 'cell differentiation']\n",
      "  CL:2000037 posterior lateral line neuromast hair cell : 2 -- ['cell development', 'cell differentiation']\n",
      "  CL:0000127 astrocyte : 3 -- ['chemotaxis', 'cell activation', 'cell fate commitment']\n",
      "  CL:1000090 pronephric nephron tubule epithelial cell : 1 -- ['cell differentiation']\n",
      "  CL:0000566 angioblastic mesenchymal cell : 1 -- ['cell differentiation']\n",
      "  CL:0000561 amacrine cell : 1 -- ['cell differentiation']\n",
      "  CL:0000164 enteroendocrine cell : 1 -- ['cell differentiation']\n",
      "  CL:0000359 vascular associated smooth muscle cell : 1 -- ['cell differentiation']\n",
      "  CL:0002539 aortic smooth muscle cell : 1 -- ['cell differentiation']\n",
      "  CL:0002573 Schwann cell : 2 -- ['cell migration', 'chemotaxis']\n",
      "  CL:0000700 dopaminergic neuron : 2 -- ['axon guidance', 'cell differentiation']\n",
      "  CL:0000850 serotonergic neuron : 1 -- ['axon guidance']\n",
      "  CL:0000014 germ line stem cell : 3 -- ['cell division', 'asymmetric cell division', 'symmetric stem cell division']\n",
      "  CL:0000492 CD4-positive helper T cell : 1 -- ['cell differentiation']\n",
      "  CL:0000210 photoreceptor cell : 5 -- ['developmental process', 'cell fate determination', 'cell fate specification', 'cell differentiation', 'cell fate commitment']\n",
      "  CL:0000287 eye photoreceptor cell : 2 -- ['developmental process', 'cell fate commitment']\n",
      "  CL:0000782 myeloid dendritic cell : 1 -- ['cell differentiation']\n",
      "  CL:0000724 heterocyst : 1 -- ['cell differentiation']\n",
      "  CL:0000545 T-helper 1 cell : 1 -- ['cell differentiation']\n",
      "  CL:0000546 T-helper 2 cell : 1 -- ['cell differentiation']\n",
      "  CL:0000910 cytotoxic T cell : 1 -- ['cell differentiation']\n",
      "  CL:0000815 regulatory T cell : 1 -- ['cell differentiation']\n",
      "  CL:0000031 neuroblast (sensu Vertebrata) : 4 -- ['establishment of cell polarity', 'maintenance of cell polarity', 'cell division', 'asymmetric cell division']\n",
      "  CL:0000136 fat cell : 1 -- ['cell differentiation']\n",
      "  CL:0000056 myoblast : 1 -- ['cell differentiation']\n",
      "  CL:0000709 R8 photoreceptor cell : 3 -- ['cell development', 'cell fate specification', 'cell differentiation']\n",
      "  CL:0000707 R7 photoreceptor cell : 2 -- ['cell differentiation', 'cell development']\n",
      "  CL:0000604 retinal rod cell : 3 -- ['developmental process', 'cell differentiation', 'cell fate commitment']\n",
      "  CL:0000573 retinal cone cell : 2 -- ['developmental process', 'cell fate commitment']\n",
      "  CL:0000222 mesodermal cell : 1 -- ['cell differentiation']\n",
      "  CL:0000000 cell : 2 -- ['biological_process', 'developmental maturation']\n",
      "  CL:0000025 egg cell : 1 -- ['cell development']\n",
      "  CL:0008002 skeletal muscle fiber : 1 -- ['anatomical structure development']\n",
      "  PO:0025415 sieve cell : 1 -- ['cell differentiation']\n",
      "  PO:0000071 companion cell : 1 -- ['cell differentiation']\n",
      "  PO:0002003 xylem vessel member : 1 -- ['cell differentiation']\n",
      "  PO:0000074 parenchyma cell : 1 -- ['cell differentiation']\n",
      "  PO:0000075 collenchyma cell : 1 -- ['cell differentiation']\n",
      "  CL:0008019 mesenchymal cell : 1 -- ['cell differentiation']\n",
      "  PO:0000262 trichoblast : 1 -- ['developmental maturation']\n",
      "  PO:0000256 root hair cell : 1 -- ['cell differentiation']\n",
      "  CL:0000571 leucophore : 1 -- ['cell differentiation']\n",
      "  CL:0000574 erythrophore : 1 -- ['cell differentiation']\n",
      "  CL:0000747 cyanophore : 1 -- ['cell differentiation']\n",
      "  CL:0000595 enucleate erythrocyte : 1 -- ['developmental process']\n"
     ]
    },
    {
     "name": "stdout",
     "output_type": "stream",
     "text": [
      "  CL:0000562 nucleate erythrocyte : 1 -- ['developmental process']\n",
      "  CL:0000034 stem cell : 5 -- ['cell differentiation', 'developmental process', 'cell fate commitment', 'cell fate specification', 'cell fate determination']\n",
      "  CL:0000851 neuromast mantle cell : 1 -- ['cell differentiation']\n",
      "  CL:0000852 neuromast supporting cell : 1 -- ['cell differentiation']\n",
      "  CL:2000031 lateral line ganglion neuron : 1 -- ['cell differentiation']\n",
      "  CL:1000050 lateral line nerve glial cell : 3 -- ['cell differentiation', 'cell migration', 'cell development']\n",
      "  CL:2000035 anterior lateral line neuromast mantle cell : 1 -- ['cell differentiation']\n",
      "  CL:2000036 anterior lateral line neuromast supporting cell : 1 -- ['cell differentiation']\n",
      "  CL:1000239 anterior lateral line nerve glial cell : 2 -- ['cell differentiation', 'cell development']\n",
      "  CL:2000038 posterior lateral line neuromast mantle cell : 1 -- ['cell differentiation']\n",
      "  CL:2000039 posterior lateral line neuromast supporting cell : 1 -- ['cell differentiation']\n",
      "  CL:1000245 posterior lateral line ganglion neuron : 1 -- ['cell differentiation']\n",
      "  CL:1000236 posterior lateral line nerve glial cell : 2 -- ['cell differentiation', 'cell development']\n",
      "  CL:2000032 peripheral nervous system neuron : 2 -- ['cell differentiation', 'cell development']\n",
      "  CL:0000448 white fat cell : 1 -- ['cell differentiation']\n",
      "  CL:0000449 brown fat cell : 1 -- ['cell differentiation']\n",
      "  CL:0000192 smooth muscle cell : 1 -- ['cell differentiation']\n",
      "  CL:0000737 striated muscle cell : 2 -- ['cell differentiation', 'developmental process']\n",
      "  CL:0000187 muscle cell : 1 -- ['developmental process']\n",
      "  CL:0002494 cardiocyte : 1 -- ['developmental process']\n",
      "  CL:0000746 cardiac muscle cell : 3 -- ['cell differentiation', 'developmental process', 'cell fate determination']\n",
      "  CL:0002129 regular atrial cardiac myocyte : 2 -- ['cell differentiation', 'cell development']\n",
      "  CL:0000216 Sertoli cell : 3 -- ['cell differentiation', 'developmental process', 'cell fate commitment']\n",
      "  CL:0000501 granulosa cell : 3 -- ['cell differentiation', 'cell fate commitment', 'developmental process']\n",
      "  CL:0000681 radial glial cell : 1 -- ['cell differentiation']\n",
      "  CL:0000609 vestibular hair cell : 4 -- ['cell differentiation', 'cell fate commitment', 'anatomical structure morphogenesis', 'developmental process']\n",
      "  CL:0000295 somatotropin secreting cell : 2 -- ['cell differentiation', 'developmental process']\n",
      "  CL:0000439 prolactin secreting cell : 2 -- ['cell differentiation', 'developmental process']\n",
      "  CL:0000467 adrenocorticotropic hormone secreting cell : 2 -- ['cell differentiation', 'developmental process']\n",
      "  CL:0000476 thyrotroph : 2 -- ['cell differentiation', 'developmental process']\n",
      "  CL:0002418 hemangioblast : 1 -- ['cell differentiation']\n",
      "  CL:0000037 hematopoietic stem cell : 1 -- ['cell differentiation']\n",
      "  CL:0010009 camera-type eye photoreceptor cell : 1 -- ['cell differentiation']\n",
      "  CL:0000671 centripetally migrating follicle cell : 1 -- ['cell migration']\n",
      "  CL:1000143 lung goblet cell : 1 -- ['cell differentiation']\n",
      "  CL:0000158 club cell : 1 -- ['cell differentiation']\n",
      "  CL:0000082 epithelial cell of lung : 1 -- ['cell differentiation']\n",
      "  CL:0002063 type II pneumocyte : 1 -- ['cell differentiation']\n",
      "  CL:0000710 neurecto-epithelial cell : 1 -- ['cell differentiation']\n",
      "  CL:0002563 intestinal epithelial cell : 3 -- ['developmental maturation', 'cell differentiation', 'anatomical structure development']\n",
      "  CL:0000058 chondroblast : 1 -- ['cell differentiation']\n",
      "  CL:0002327 mammary gland epithelial cell : 1 -- ['cell differentiation']\n",
      "  CL:0002488 trophoblast giant cell : 1 -- ['cell differentiation']\n",
      "  CL:0002499 spongiotrophoblast cell : 1 -- ['cell differentiation']\n",
      "  CL:0011101 chorionic trophoblast cell : 2 -- ['cell differentiation', 'cell development']\n",
      "  CL:1000223 lung neuroendocrine cell : 1 -- ['cell differentiation']\n",
      "  CL:0000165 neuroendocrine cell : 1 -- ['cell differentiation']\n",
      "  CL:1000222 stomach neuroendocrine cell : 1 -- ['cell differentiation']\n",
      "  CL:1000426 chromaffin cell of adrenal gland : 1 -- ['cell differentiation']\n",
      "  CL:1000272 lung secretory cell : 1 -- ['cell differentiation']\n",
      "  CL:1000271 lung ciliated cell : 1 -- ['cell differentiation']\n",
      "  CL:0002523 mesonephric glomerular visceral epithelial cell : 3 -- ['cell differentiation', 'anatomical structure development', 'cell fate commitment']\n",
      "  CL:1000022 mesonephric nephron tubule epithelial cell : 1 -- ['cell differentiation']\n",
      "  CL:1001503 olfactory bulb tufted cell : 1 -- ['cell development']\n",
      "  CL:1000001 retrotrapezoid nucleus neuron : 1 -- ['cell differentiation']\n",
      "  CL:0002088 interstitial cell of Cajal : 1 -- ['cell differentiation']\n",
      "  CL:0002038 T follicular helper cell : 1 -- ['cell differentiation']\n",
      "  CL:0000453 Langerhans cell : 1 -- ['cell differentiation']\n",
      "  CL:0000632 hepatic stellate cell : 1 -- ['cell differentiation']\n",
      "  CL:0000022 female germ line stem cell : 1 -- ['symmetric stem cell division']\n",
      "  CL:0005006 ionocyte : 1 -- ['cell differentiation']\n",
      "  CL:0000147 pigment cell : 1 -- ['developmental process']\n",
      "  CL:0000182 hepatocyte : 1 -- ['cell differentiation']\n",
      "  CL:0002453 oligodendrocyte precursor cell : 1 -- ['cell population proliferation']\n",
      "  CL:0000060 odontoblast : 1 -- ['cell differentiation']\n",
      "  CL:0000650 mesangial cell : 1 -- ['cell differentiation']\n",
      "  CL:1000742 glomerular mesangial cell : 1 -- ['cell differentiation']\n",
      "  CL:0000653 glomerular visceral epithelial cell : 1 -- ['anatomical structure development']\n",
      "  CL:1000618 juxtaglomerular complex cell : 1 -- ['cell differentiation']\n",
      "  CL:1000692 kidney interstitial fibroblast : 1 -- ['cell differentiation']\n",
      "  CL:0002525 metanephric glomerular visceral epithelial cell : 3 -- ['cell differentiation', 'anatomical structure development', 'cell fate commitment']\n",
      "  CL:1000123 metanephric nephron tubule epithelial cell : 1 -- ['cell differentiation']\n",
      "  CL:0000779 multinuclear osteoclast : 1 -- ['cell differentiation']\n",
      "  FAO:0000026 urediniospore : 1 -- ['asexual sporulation resulting in formation of a cellular spore']\n",
      "  FAO:0000022 teliospore : 1 -- ['asexual sporulation resulting in formation of a cellular spore']\n",
      "  CL:0000891 foam cell : 1 -- ['cell differentiation']\n",
      "  CL:0000892 smooth muscle cell derived foam cell : 1 -- ['cell differentiation']\n",
      "  CL:0005019 pancreatic epsilon cell : 2 -- ['cell differentiation', 'cell development']\n",
      "  PO:0004511 seed trichome : 3 -- ['cell differentiation', 'cell fate commitment', 'developmental maturation']\n",
      "  CL:0000622 acinar cell : 1 -- ['cell differentiation']\n",
      "  PO:0025212 leaf pavement cell : 1 -- ['anatomical structure development']\n",
      "  PO:0000115 socket cell : 1 -- ['cell differentiation']\n",
      "  PO:0025406 sieve element : 1 -- ['cell differentiation']\n",
      "  CL:0000451 dendritic cell : 1 -- ['cell differentiation']\n",
      "  CL:0000841 mature conventional dendritic cell : 1 -- ['cell differentiation']\n",
      "  CL:1001569 hippocampal interneuron : 1 -- ['cell differentiation']\n",
      "  CL:1001571 hippocampal pyramidal neuron : 1 -- ['cell differentiation']\n",
      "  CL:0011103 sympathetic neuron : 1 -- ['axon guidance']\n",
      "  CL:0000016 male germ line stem cell : 1 -- ['symmetric stem cell division']\n",
      "  CL:1001611 cerebellar neuron : 1 -- ['developmental process']\n",
      "  CL:0001035 bone cell : 1 -- ['developmental process']\n",
      "  CL:0002633 respiratory basal cell : 1 -- ['cell differentiation']\n",
      "  CL:0000842 mononuclear cell : 1 -- ['cell differentiation']\n",
      "  PO:0025541 bundle sheath cell : 1 -- ['cell differentiation']\n",
      "  CL:0000129 microglial cell : 1 -- ['cell migration']\n",
      "  CL:0000806 DN2 thymocyte : 1 -- ['cell differentiation']\n",
      "  CL:0000807 DN3 thymocyte : 1 -- ['cell differentiation']\n",
      "  CL:0000808 DN4 thymocyte : 1 -- ['cell differentiation']\n",
      "  PO:0000431 megasporocyte : 1 -- ['cell differentiation']\n",
      "  CL:0000099 interneuron : 1 -- ['cell migration']\n",
      "  CL:0000101 sensory neuron : 1 -- ['cell migration']\n",
      "  CL:2000097 midbrain dopaminergic neuron : 1 -- ['cell differentiation']\n",
      "  PO:0000290 tracheary element : 1 -- ['cell differentiation']\n",
      "  CL:0000679 glutamatergic neuron : 1 -- ['cell differentiation']\n"
     ]
    }
   ],
   "source": [
    "for cell, cell_ldefs in ldef_by_cell.items():\n",
    "    genus_terms = [ldef.genusIds for ldef in cell_ldefs]\n",
    "    print(f\"  {cell} {oi.label(cell)} : {len(cell_ldefs)} -- {[oi.label(g[0]) for g in genus_terms]}\")"
   ]
  },
  {
   "cell_type": "markdown",
   "id": "2ae4f2bb",
   "metadata": {},
   "source": [
    "## Cell Type Summarization function\n",
    "\n",
    "This creates a function that will\n",
    "\n",
    " - summarize all GO terms with logical defs that reference that cell\n",
    " - give basic annotation stats\n",
    " - draw an upset plot showing how genes are distributed across those terms\n",
    " \n",
    " TODO: draw a visualization of how the terms relate"
   ]
  },
  {
   "cell_type": "code",
   "execution_count": 74,
   "id": "744e71ce",
   "metadata": {},
   "outputs": [],
   "source": [
    "def cell_summary(cell, taxon):\n",
    "    cell_label = oi.label(cell)\n",
    "    print(f\"SUMMARY FOR {cell} {cell_label}\")\n",
    "    go_terms = [ldef.definedClassId for ldef in ldef_by_cell[cell]]\n",
    "    for term in go_terms:\n",
    "        anns, ibas = get_IBA_summary(term, taxon)\n",
    "        print(f\" * {term} {oi.label(term)} IBAs: {ibas} Anns: {anns}\")\n",
    "    return compare_set(go_terms, taxon)\n",
    "    "
   ]
  },
  {
   "cell_type": "markdown",
   "id": "e7a4e65d",
   "metadata": {},
   "source": [
    "## EXAMPLE: Stem cell (human)"
   ]
  },
  {
   "cell_type": "code",
   "execution_count": 83,
   "id": "3b4933ee",
   "metadata": {},
   "outputs": [
    {
     "name": "stdout",
     "output_type": "stream",
     "text": [
      "SUMMARY FOR CL:0000034 stem cell\n",
      " * GO:0048863 stem cell differentiation IBAs: 27 Anns: 212\n",
      " * GO:0048864 stem cell development IBAs: 27 Anns: 101\n",
      " * GO:0048865 stem cell fate commitment IBAs: 0 Anns: 10\n",
      " * GO:0048866 stem cell fate specification IBAs: 0 Anns: 6\n",
      " * GO:0048867 stem cell fate determination IBAs: 0 Anns: 0\n"
     ]
    },
    {
     "data": {
      "application/vnd.jupyter.widget-view+json": {
       "model_id": "5fbaa6af6810496ba72ba13a2663be7a",
       "version_major": 2,
       "version_minor": 0
      },
      "text/plain": [
       "UpSetJSWidget(value=None, combinations=[UpSetSetIntersection(name=stem cell differentiation, sets={'stem cell …"
      ]
     },
     "execution_count": 83,
     "metadata": {},
     "output_type": "execute_result"
    },
    {
     "name": "stderr",
     "output_type": "stream",
     "text": [
      "WARNING:Comm:No such comm: 5fbaa6af6810496ba72ba13a2663be7a\n",
      "WARNING:Comm:No such comm: 5fbaa6af6810496ba72ba13a2663be7a\n",
      "WARNING:Comm:No such comm: 5fbaa6af6810496ba72ba13a2663be7a\n",
      "WARNING:Comm:No such comm: 5fbaa6af6810496ba72ba13a2663be7a\n"
     ]
    }
   ],
   "source": [
    "cell_summary(\"CL:0000034\", HUMAN)"
   ]
  },
  {
   "cell_type": "markdown",
   "id": "d6e7ba1d",
   "metadata": {},
   "source": [
    "### observations\n",
    "\n",
    "note the majority of genes are on the less leafy development/differentiation nodes.\n",
    "\n",
    "there is a lot of overlap between these\n",
    "\n",
    "TODO: "
   ]
  },
  {
   "cell_type": "code",
   "execution_count": 84,
   "id": "c6346ed1",
   "metadata": {},
   "outputs": [
    {
     "name": "stdout",
     "output_type": "stream",
     "text": [
      "SUMMARY FOR CL:0000034 stem cell\n",
      " * GO:0048863 stem cell differentiation IBAs: 27 Anns: 339\n",
      " * GO:0048864 stem cell development IBAs: 27 Anns: 166\n",
      " * GO:0048865 stem cell fate commitment IBAs: 0 Anns: 10\n",
      " * GO:0048866 stem cell fate specification IBAs: 0 Anns: 5\n",
      " * GO:0048867 stem cell fate determination IBAs: 0 Anns: 0\n"
     ]
    },
    {
     "data": {
      "application/vnd.jupyter.widget-view+json": {
       "model_id": "5fbaa6af6810496ba72ba13a2663be7a",
       "version_major": 2,
       "version_minor": 0
      },
      "text/plain": [
       "UpSetJSWidget(value=None, combinations=[UpSetSetIntersection(name=stem cell differentiation, sets={'stem cell …"
      ]
     },
     "execution_count": 84,
     "metadata": {},
     "output_type": "execute_result"
    }
   ],
   "source": [
    "MOUSE = \"NCBITaxon:10090\"\n",
    "cell_summary(\"CL:0000034\", MOUSE)"
   ]
  },
  {
   "cell_type": "code",
   "execution_count": null,
   "id": "33714d0a",
   "metadata": {},
   "outputs": [],
   "source": []
  }
 ],
 "metadata": {
  "kernelspec": {
   "display_name": "Python 3 (ipykernel)",
   "language": "python",
   "name": "python3"
  },
  "language_info": {
   "codemirror_mode": {
    "name": "ipython",
    "version": 3
   },
   "file_extension": ".py",
   "mimetype": "text/x-python",
   "name": "python",
   "nbconvert_exporter": "python",
   "pygments_lexer": "ipython3",
   "version": "3.9.5"
  }
 },
 "nbformat": 4,
 "nbformat_minor": 5
}

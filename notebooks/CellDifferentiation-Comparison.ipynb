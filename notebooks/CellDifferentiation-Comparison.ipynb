{
 "cells": [
  {
   "cell_type": "markdown",
   "id": "8214d668",
   "metadata": {},
   "source": [
    "# Cell Differentiation GO analysis\n",
    "\n",
    "This analysis is to support https://github.com/geneontology/go-ontology/issues/24390\n",
    "\n",
    "The goal here is to explore\n",
    "\n",
    " - consistent population of terms in \"cell differentiation\" patterns in the ontology\n",
    " - consistency of annotation of terms at different levels\n",
    " \n",
    "This is to help us decide on how to best patternize differentiation. Ideally:\n",
    "\n",
    " 1. We should consistently populate terms\n",
    " 2. We should consistently annotate terms\n",
    "\n",
    "\n",
    "__NOTE FOR ONTOLOGY EDITORS__ This is a Jupyter notebook. You do not need to understand any of the code here.\n",
    "The notebook form makes the generation of the stats here reproducible and transparent. Any member of the GO\n",
    "software team can help you run this for yourself, or tweak settings.\n",
    "\n",
    "Scroll to the bottom for the main results.\n",
    "\n"
   ]
  },
  {
   "cell_type": "markdown",
   "id": "bf70d361",
   "metadata": {},
   "source": [
    "## Initial setup\n",
    "\n",
    "Here we import the necessary libraries:\n",
    "    \n",
    " 1. OAK, for ontology querying (labels and logical definitions)\n",
    " 2. go_library, for annotation querying"
   ]
  },
  {
   "cell_type": "code",
   "execution_count": 41,
   "id": "3503861e",
   "metadata": {},
   "outputs": [],
   "source": [
    "from oaklib.selector import get_implementation_from_shorthand\n",
    "from oaklib.datamodels.vocabulary import IS_A, PART_OF"
   ]
  },
  {
   "cell_type": "code",
   "execution_count": 14,
   "id": "fd201900",
   "metadata": {},
   "outputs": [],
   "source": [
    "oi = get_implementation_from_shorthand(\"sqlite:obo:go\")"
   ]
  },
  {
   "cell_type": "code",
   "execution_count": 1,
   "id": "5f28652f",
   "metadata": {},
   "outputs": [],
   "source": [
    "from go_library.datamodel.amigo_solr_api import AmigoSolrAPI\n",
    "from go_library.amigo_solr.engine import create_handle\n",
    "from go_library.datamodel.amigo_solr import Annotation, Bioentity"
   ]
  },
  {
   "cell_type": "code",
   "execution_count": 2,
   "id": "e124c122",
   "metadata": {},
   "outputs": [],
   "source": [
    "amigo = create_handle()"
   ]
  },
  {
   "cell_type": "code",
   "execution_count": 3,
   "id": "bb74feac",
   "metadata": {},
   "outputs": [],
   "source": [
    "HUMAN = 'NCBITaxon:9606'"
   ]
  },
  {
   "cell_type": "markdown",
   "id": "6a0669e5",
   "metadata": {},
   "source": [
    "## IBA summaries\n",
    "\n",
    "We write a convenience method to fetch IBA stats from AmiGO.\n",
    "\n",
    "The intuition here is that terms annotated with IBA have been deemed to be trustworthy of propagation"
   ]
  },
  {
   "cell_type": "code",
   "execution_count": 76,
   "id": "28654117",
   "metadata": {},
   "outputs": [
    {
     "data": {
      "text/plain": [
       "(14, 0)"
      ]
     },
     "execution_count": 76,
     "metadata": {},
     "output_type": "execute_result"
    }
   ],
   "source": [
    "def get_IBA_summary(term, taxon):\n",
    "    \"\"\"\n",
    "    Returns: (total_anns, anns_to_IBA)\n",
    "    \"\"\"\n",
    "    solr_params = {'facet': 'on',\n",
    "                   'facet.mincount': 1,\n",
    "                   'facet.field': ['evidence_type'],\n",
    "                   'rows': 0}\n",
    "    results = amigo.query_engine.search(Annotation,\n",
    "                                                     solr_params=solr_params,\n",
    "                                                     isa_partof_closure=term,\n",
    "                                                     taxon=taxon)\n",
    "    return results.num_found, results.facet_counts['evidence_type'].get('IBA', 0)\n",
    "\n",
    "\n",
    "# test with an example term\n",
    "get_IBA_summary(\"GO:0060911\", HUMAN)\n",
    "    "
   ]
  },
  {
   "cell_type": "markdown",
   "id": "516703e2",
   "metadata": {},
   "source": [
    "## Convenience function to fetch genes"
   ]
  },
  {
   "cell_type": "code",
   "execution_count": 8,
   "id": "1df74ffa",
   "metadata": {},
   "outputs": [
    {
     "data": {
      "text/plain": [
       "['UniProtKB:P56704',\n",
       " 'UniProtKB:Q9H6I2',\n",
       " 'UniProtKB:P19544',\n",
       " 'UniProtKB:O15119',\n",
       " 'UniProtKB:P61371',\n",
       " 'UniProtKB:P05556',\n",
       " 'UniProtKB:Q04771',\n",
       " 'UniProtKB:O95935',\n",
       " 'UniProtKB:Q9H1J5',\n",
       " 'UniProtKB:P52952',\n",
       " 'UniProtKB:Q9BRJ9',\n",
       " 'UniProtKB:Q6N022',\n",
       " 'UniProtKB:Q99593']"
      ]
     },
     "execution_count": 8,
     "metadata": {},
     "output_type": "execute_result"
    }
   ],
   "source": [
    "def get_genes(term, taxon):\n",
    "    results = amigo.query_engine.search(Bioentity,\n",
    "                                                     solr_params={'fl':'id', 'rows': 10000},\n",
    "                                                     isa_partof_closure=term,\n",
    "                                                     taxon=taxon)\n",
    "    return [e.id for e in results.items]\n",
    "\n",
    "get_genes(\"GO:0060911\", HUMAN)"
   ]
  },
  {
   "cell_type": "markdown",
   "id": "9a7e740e",
   "metadata": {},
   "source": [
    "## Upset plots\n",
    "\n",
    "These are superior to Venn diagrams in that they can show intersection between arbitrary numbers of sets.\n",
    "\n",
    "We will use these to explore how often the same gene is populated to different terms"
   ]
  },
  {
   "cell_type": "code",
   "execution_count": 77,
   "id": "edf207d2",
   "metadata": {},
   "outputs": [],
   "source": [
    "from ipywidgets import interact\n",
    "from upsetjs_jupyter_widget import UpSetJSWidget\n",
    "import pandas as pd"
   ]
  },
  {
   "cell_type": "code",
   "execution_count": 78,
   "id": "9709322d",
   "metadata": {},
   "outputs": [],
   "source": [
    "w = UpSetJSWidget[str]()"
   ]
  },
  {
   "cell_type": "code",
   "execution_count": 93,
   "id": "c4533d05",
   "metadata": {},
   "outputs": [],
   "source": [
    "def compare_set(terms, taxon):\n",
    "    w = UpSetJSWidget[str]()\n",
    "    results = {}\n",
    "    for term in terms:\n",
    "        label = oi.label(term)\n",
    "        genes = get_genes(term, taxon)\n",
    "        results[label] = genes\n",
    "    return w.from_dict(results)\n"
   ]
  },
  {
   "cell_type": "code",
   "execution_count": 94,
   "id": "e2e9c344",
   "metadata": {},
   "outputs": [
    {
     "data": {
      "application/vnd.jupyter.widget-view+json": {
       "model_id": "c2565713f9274545a6182bebb0beb430",
       "version_major": 2,
       "version_minor": 0
      },
      "text/plain": [
       "UpSetJSWidget(value=None, combinations=[UpSetSetIntersection(name=cardiac cell fate commitment, sets={'cardiac…"
      ]
     },
     "execution_count": 94,
     "metadata": {},
     "output_type": "execute_result"
    }
   ],
   "source": [
    "compare_set([\"GO:0060911\", \"GO:0060912\"], HUMAN)"
   ]
  },
  {
   "cell_type": "markdown",
   "id": "15aaedab",
   "metadata": {},
   "source": [
    "## Cell Differentiation logical definitions\n",
    "\n",
    "Here we fetch all cell differentiation descendants over is-a and part-of, and get all logical\n",
    "definitions that reference a cell type"
   ]
  },
  {
   "cell_type": "code",
   "execution_count": 95,
   "id": "aabff2d6",
   "metadata": {},
   "outputs": [],
   "source": [
    "CELL_DIFFERENTIATION = \"GO:0030154\"\n",
    "terms = list(oi.descendants(CELL_DIFFERENTIATION, predicates=[IS_A, PART_OF]))"
   ]
  },
  {
   "cell_type": "code",
   "execution_count": 96,
   "id": "add2fcaa",
   "metadata": {},
   "outputs": [],
   "source": [
    "ldefs = list(oi.logical_definitions(terms))"
   ]
  },
  {
   "cell_type": "code",
   "execution_count": 97,
   "id": "7d66e6a8",
   "metadata": {},
   "outputs": [
    {
     "data": {
      "text/plain": [
       "589"
      ]
     },
     "execution_count": 97,
     "metadata": {},
     "output_type": "execute_result"
    }
   ],
   "source": [
    "# check how many\n",
    "len(ldefs)"
   ]
  },
  {
   "cell_type": "code",
   "execution_count": 98,
   "id": "e78319a9",
   "metadata": {},
   "outputs": [
    {
     "name": "stdout",
     "output_type": "stream",
     "text": [
      "262\n"
     ]
    }
   ],
   "source": [
    "# index by cell type\n",
    "from collections import defaultdict\n",
    "\n",
    "ldef_by_cell = defaultdict(list)\n",
    "for ldef in ldefs:\n",
    "    if len(ldef.restrictions) != 1:\n",
    "        continue\n",
    "    cell = ldef.restrictions[0].fillerId\n",
    "    if not cell.startswith(\"CL:\") and not cell.startswith(\"PO:\") and not cell.startswith(\"FAO:\"):\n",
    "        continue\n",
    "    ldef_by_cell[cell].append(ldef)\n",
    "print(len(ldef_by_cell))"
   ]
  },
  {
   "cell_type": "code",
   "execution_count": 99,
   "id": "0c651abf",
   "metadata": {},
   "outputs": [],
   "source": [
    "# filter to only cell types that have >1 associated logical definition\n",
    "ldef_by_cell = {k: v for k, v in ldef_by_cell.items() if len(v) > 1}"
   ]
  },
  {
   "cell_type": "markdown",
   "id": "4fe5bff3",
   "metadata": {},
   "source": [
    "## Summarize Logical Definitions indexed by Cell Type\n",
    "\n",
    " - **TODO** make this prettier\n",
    " - **TODO** filter to get only differentiation DPs (diff, fate commitment, specification, maturation, ...)"
   ]
  },
  {
   "cell_type": "code",
   "execution_count": 100,
   "id": "29fdf691",
   "metadata": {},
   "outputs": [
    {
     "name": "stdout",
     "output_type": "stream",
     "text": [
      "  CL:0000540 neuron : 3 -- ['cell migration', 'cell recognition', 'developmental maturation']\n",
      "  CL:2000020 inner cell mass cell : 2 -- ['cell differentiation', 'cell fate commitment']\n",
      "  CL:1000274 trophectodermal cell : 3 -- ['cell differentiation', 'cell fate commitment', 'anatomical structure morphogenesis']\n",
      "  CL:0000814 mature NK T cell : 2 -- ['cell differentiation', 'cell fate commitment']\n",
      "  CL:0000115 endothelial cell : 3 -- ['developmental process', 'anatomical structure morphogenesis', 'cell differentiation']\n",
      "  CL:0000819 B-1 B cell : 2 -- ['cell differentiation', 'cell fate commitment']\n",
      "  CL:0000062 osteoblast : 2 -- ['cell fate commitment', 'developmental process']\n",
      "  CL:0000138 chondrocyte : 3 -- ['cell differentiation', 'developmental process', 'anatomical structure morphogenesis']\n",
      "  CL:0000066 epithelial cell : 4 -- ['developmental process', 'developmental maturation', 'anatomical structure morphogenesis', 'cell differentiation']\n",
      "  CL:0000075 columnar/cuboidal epithelial cell : 3 -- ['cell differentiation', 'developmental process', 'developmental maturation']\n",
      "  CL:0000150 glandular epithelial cell : 3 -- ['cell differentiation', 'developmental process', 'developmental maturation']\n",
      "  CL:0000202 auditory hair cell : 3 -- ['anatomical structure morphogenesis', 'cell differentiation', 'developmental process']\n",
      "  CL:0000084 T cell : 2 -- ['cell fate commitment', 'cell differentiation']\n",
      "  CL:0000792 CD4-positive, CD25-positive, alpha-beta regulatory T cell : 2 -- ['cell differentiation', 'cell fate commitment']\n",
      "  CL:0000789 alpha-beta T cell : 2 -- ['cell fate commitment', 'cell differentiation']\n",
      "  CL:0000798 gamma-delta T cell : 2 -- ['cell fate commitment', 'cell differentiation']\n",
      "  CL:0000169 type B pancreatic cell : 3 -- ['cell differentiation', 'developmental process', 'cell fate commitment']\n",
      "  CL:0000171 pancreatic A cell : 3 -- ['cell differentiation', 'developmental process', 'cell fate commitment']\n",
      "  CL:0000173 pancreatic D cell : 3 -- ['cell differentiation', 'developmental process', 'cell fate commitment']\n",
      "  CL:0002275 pancreatic PP cell : 3 -- ['cell differentiation', 'cell development', 'cell fate commitment']\n",
      "  CL:0000312 keratinocyte : 2 -- ['developmental process', 'cell differentiation']\n",
      "  CL:0008025 noradrenergic neuron : 3 -- ['cell differentiation', 'developmental process', 'cell fate commitment']\n",
      "  CL:1000217 growth plate cartilage chondrocyte : 3 -- ['cell differentiation', 'growth', 'cell development']\n",
      "  CL:0000301 pole cell : 3 -- ['developmental process', 'cell fate determination', 'anatomical structure formation involved in morphogenesis']\n",
      "  CL:0000586 germ cell : 2 -- ['developmental process', 'programmed cell death']\n",
      "  CL:0000477 ovarian follicle cell : 2 -- ['cell migration', 'cell development']\n",
      "  CL:0000579 border follicle cell : 2 -- ['cell migration', 'delamination']\n",
      "  CL:0000023 oocyte : 8 -- ['developmental process', 'axis specification', 'dorsal/ventral axis specification', 'anterior/posterior axis specification', 'cell fate determination', 'localization', 'cell fate commitment', 'anatomical structure morphogenesis']\n",
      "  CL:0000100 motor neuron : 2 -- ['axon guidance', 'cell migration']\n",
      "  CL:0000125 glial cell : 4 -- ['cell migration', 'cell differentiation', 'biological_process', 'growth']\n",
      "  PO:0000293 guard cell : 3 -- ['cell fate commitment', 'anatomical structure development', 'anatomical structure morphogenesis']\n",
      "  CL:0011001 spinal cord motor neuron : 3 -- ['cell fate specification', 'cell differentiation', 'cell migration']\n",
      "  CL:0011002 lateral motor column neuron : 2 -- ['cell differentiation', 'cell migration']\n",
      "  CL:0010011 cerebral cortex GABAergic interneuron : 4 -- ['cell migration', 'cell differentiation', 'cell fate commitment', 'developmental process']\n",
      "  CL:0000598 pyramidal neuron : 2 -- ['cell differentiation', 'developmental process']\n",
      "  CL:0012001 neuron of the forebrain : 2 -- ['cell differentiation', 'cell development']\n",
      "  CL:1001434 olfactory bulb interneuron : 3 -- ['cell differentiation', 'cell fate commitment', 'cell development']\n",
      "  CL:0012000 astrocyte of the forebrain : 2 -- ['cell differentiation', 'cell development']\n",
      "  CL:2000029 central nervous system neuron : 2 -- ['cell differentiation', 'cell development']\n",
      "  CL:0000763 myeloid cell : 2 -- ['cell differentiation', 'cell development']\n",
      "  CL:0000232 erythrocyte : 3 -- ['cell differentiation', 'developmental maturation', 'developmental process']\n",
      "  CL:0000556 megakaryocyte : 2 -- ['cell differentiation', 'anatomical structure development']\n",
      "  CL:0000771 eosinophil : 4 -- ['cell differentiation', 'cell fate commitment', 'cell fate specification', 'cell fate determination']\n",
      "  CL:0000092 osteoclast : 2 -- ['cell differentiation', 'developmental maturation']\n",
      "  CL:0000856 neuromast hair cell : 3 -- ['anatomical structure development', 'anatomical structure morphogenesis', 'cell differentiation']\n",
      "  CL:2000034 anterior lateral line neuromast hair cell : 2 -- ['cell development', 'cell differentiation']\n",
      "  CL:2000037 posterior lateral line neuromast hair cell : 2 -- ['cell development', 'cell differentiation']\n",
      "  CL:0000127 astrocyte : 3 -- ['chemotaxis', 'cell activation', 'cell fate commitment']\n",
      "  CL:0002573 Schwann cell : 2 -- ['cell migration', 'chemotaxis']\n",
      "  CL:0000700 dopaminergic neuron : 2 -- ['axon guidance', 'cell differentiation']\n",
      "  CL:0000014 germ line stem cell : 3 -- ['cell division', 'asymmetric cell division', 'symmetric stem cell division']\n",
      "  CL:0000210 photoreceptor cell : 5 -- ['developmental process', 'cell fate determination', 'cell fate specification', 'cell differentiation', 'cell fate commitment']\n",
      "  CL:0000287 eye photoreceptor cell : 2 -- ['developmental process', 'cell fate commitment']\n",
      "  CL:0000031 neuroblast (sensu Vertebrata) : 4 -- ['establishment of cell polarity', 'maintenance of cell polarity', 'cell division', 'asymmetric cell division']\n",
      "  CL:0000709 R8 photoreceptor cell : 3 -- ['cell development', 'cell fate specification', 'cell differentiation']\n",
      "  CL:0000707 R7 photoreceptor cell : 2 -- ['cell differentiation', 'cell development']\n",
      "  CL:0000604 retinal rod cell : 3 -- ['developmental process', 'cell differentiation', 'cell fate commitment']\n",
      "  CL:0000573 retinal cone cell : 2 -- ['developmental process', 'cell fate commitment']\n",
      "  CL:0000000 cell : 2 -- ['biological_process', 'developmental maturation']\n",
      "  CL:0000034 stem cell : 5 -- ['cell differentiation', 'developmental process', 'cell fate commitment', 'cell fate specification', 'cell fate determination']\n",
      "  CL:1000050 lateral line nerve glial cell : 3 -- ['cell differentiation', 'cell migration', 'cell development']\n",
      "  CL:1000239 anterior lateral line nerve glial cell : 2 -- ['cell differentiation', 'cell development']\n",
      "  CL:1000236 posterior lateral line nerve glial cell : 2 -- ['cell differentiation', 'cell development']\n",
      "  CL:2000032 peripheral nervous system neuron : 2 -- ['cell differentiation', 'cell development']\n",
      "  CL:0000737 striated muscle cell : 2 -- ['cell differentiation', 'developmental process']\n",
      "  CL:0000746 cardiac muscle cell : 3 -- ['cell differentiation', 'developmental process', 'cell fate determination']\n",
      "  CL:0002129 regular atrial cardiac myocyte : 2 -- ['cell differentiation', 'cell development']\n",
      "  CL:0000216 Sertoli cell : 3 -- ['cell differentiation', 'developmental process', 'cell fate commitment']\n",
      "  CL:0000501 granulosa cell : 3 -- ['cell differentiation', 'cell fate commitment', 'developmental process']\n",
      "  CL:0000609 vestibular hair cell : 4 -- ['cell differentiation', 'cell fate commitment', 'anatomical structure morphogenesis', 'developmental process']\n",
      "  CL:0000295 somatotropin secreting cell : 2 -- ['cell differentiation', 'developmental process']\n",
      "  CL:0000439 prolactin secreting cell : 2 -- ['cell differentiation', 'developmental process']\n",
      "  CL:0000467 adrenocorticotropic hormone secreting cell : 2 -- ['cell differentiation', 'developmental process']\n",
      "  CL:0000476 thyrotroph : 2 -- ['cell differentiation', 'developmental process']\n",
      "  CL:0002563 intestinal epithelial cell : 3 -- ['developmental maturation', 'cell differentiation', 'anatomical structure development']\n",
      "  CL:0011101 chorionic trophoblast cell : 2 -- ['cell differentiation', 'cell development']\n",
      "  CL:0002523 mesonephric glomerular visceral epithelial cell : 3 -- ['cell differentiation', 'anatomical structure development', 'cell fate commitment']\n",
      "  CL:0002525 metanephric glomerular visceral epithelial cell : 3 -- ['cell differentiation', 'anatomical structure development', 'cell fate commitment']\n",
      "  CL:0005019 pancreatic epsilon cell : 2 -- ['cell differentiation', 'cell development']\n",
      "  PO:0004511 seed trichome : 3 -- ['cell differentiation', 'cell fate commitment', 'developmental maturation']\n"
     ]
    }
   ],
   "source": [
    "for cell, cell_ldefs in ldef_by_cell.items():\n",
    "    genus_terms = [ldef.genusIds for ldef in cell_ldefs]\n",
    "    print(f\"  {cell} {oi.label(cell)} : {len(cell_ldefs)} -- {[oi.label(g[0]) for g in genus_terms]}\")"
   ]
  },
  {
   "cell_type": "markdown",
   "id": "b3e9821a",
   "metadata": {},
   "source": [
    "## Cell Type Summarization function\n",
    "\n",
    "This creates a function that will\n",
    "\n",
    " - summarize all GO terms with logical defs that reference that cell\n",
    " - give basic annotation stats\n",
    " - draw an upset plot showing how genes are distributed across those terms\n",
    " \n",
    " TODO: draw a visualization of how the terms relate"
   ]
  },
  {
   "cell_type": "code",
   "execution_count": 101,
   "id": "fbf656cc",
   "metadata": {},
   "outputs": [],
   "source": [
    "def cell_summary(cell, taxon):\n",
    "    cell_label = oi.label(cell)\n",
    "    print(f\"SUMMARY FOR {cell} {cell_label}\")\n",
    "    go_terms = [ldef.definedClassId for ldef in ldef_by_cell[cell]]\n",
    "    for term in go_terms:\n",
    "        anns, ibas = get_IBA_summary(term, taxon)\n",
    "        print(f\" * {term} {oi.label(term)} IBAs: {ibas} Anns: {anns}\")\n",
    "    return compare_set(go_terms, taxon)\n",
    "    "
   ]
  },
  {
   "cell_type": "markdown",
   "id": "11a125d5",
   "metadata": {},
   "source": [
    "## EXAMPLE: Stem cell (human)"
   ]
  },
  {
   "cell_type": "code",
   "execution_count": 102,
   "id": "4f3fb376",
   "metadata": {},
   "outputs": [
    {
     "name": "stdout",
     "output_type": "stream",
     "text": [
      "SUMMARY FOR CL:0000034 stem cell\n",
      " * GO:0048863 stem cell differentiation IBAs: 27 Anns: 212\n",
      " * GO:0048864 stem cell development IBAs: 27 Anns: 101\n",
      " * GO:0048865 stem cell fate commitment IBAs: 0 Anns: 10\n",
      " * GO:0048866 stem cell fate specification IBAs: 0 Anns: 6\n",
      " * GO:0048867 stem cell fate determination IBAs: 0 Anns: 0\n"
     ]
    },
    {
     "data": {
      "application/vnd.jupyter.widget-view+json": {
       "model_id": "e5aacebdf16b4f3d9eecb369a686a8bc",
       "version_major": 2,
       "version_minor": 0
      },
      "text/plain": [
       "UpSetJSWidget(value=None, combinations=[UpSetSetIntersection(name=stem cell differentiation, sets={'stem cell …"
      ]
     },
     "execution_count": 102,
     "metadata": {},
     "output_type": "execute_result"
    }
   ],
   "source": [
    "cell_summary(\"CL:0000034\", HUMAN)"
   ]
  },
  {
   "cell_type": "markdown",
   "id": "ffbafd14",
   "metadata": {},
   "source": [
    "### observations\n",
    "\n",
    "note the majority of genes are on the less leafy development/differentiation nodes.\n",
    "\n",
    "there is a lot of overlap between these\n",
    "\n",
    "TODO: more observations"
   ]
  },
  {
   "cell_type": "code",
   "execution_count": 103,
   "id": "f14818b1",
   "metadata": {},
   "outputs": [
    {
     "name": "stdout",
     "output_type": "stream",
     "text": [
      "SUMMARY FOR CL:0000034 stem cell\n",
      " * GO:0048863 stem cell differentiation IBAs: 27 Anns: 339\n",
      " * GO:0048864 stem cell development IBAs: 27 Anns: 166\n",
      " * GO:0048865 stem cell fate commitment IBAs: 0 Anns: 10\n",
      " * GO:0048866 stem cell fate specification IBAs: 0 Anns: 5\n",
      " * GO:0048867 stem cell fate determination IBAs: 0 Anns: 0\n"
     ]
    },
    {
     "data": {
      "application/vnd.jupyter.widget-view+json": {
       "model_id": "c86169e2b19a466899888b81283f5099",
       "version_major": 2,
       "version_minor": 0
      },
      "text/plain": [
       "UpSetJSWidget(value=None, combinations=[UpSetSetIntersection(name=stem cell differentiation, sets={'stem cell …"
      ]
     },
     "execution_count": 103,
     "metadata": {},
     "output_type": "execute_result"
    }
   ],
   "source": [
    "MOUSE = \"NCBITaxon:10090\"\n",
    "cell_summary(\"CL:0000034\", MOUSE)"
   ]
  },
  {
   "cell_type": "code",
   "execution_count": null,
   "id": "605a758b",
   "metadata": {},
   "outputs": [],
   "source": []
  },
  {
   "cell_type": "code",
   "execution_count": null,
   "id": "104c43e5",
   "metadata": {},
   "outputs": [],
   "source": []
  },
  {
   "cell_type": "code",
   "execution_count": null,
   "id": "7eb38c0a",
   "metadata": {},
   "outputs": [],
   "source": []
  },
  {
   "cell_type": "code",
   "execution_count": null,
   "id": "d961a6f4",
   "metadata": {},
   "outputs": [],
   "source": []
  }
 ],
 "metadata": {
  "kernelspec": {
   "display_name": "Python 3 (ipykernel)",
   "language": "python",
   "name": "python3"
  },
  "language_info": {
   "codemirror_mode": {
    "name": "ipython",
    "version": 3
   },
   "file_extension": ".py",
   "mimetype": "text/x-python",
   "name": "python",
   "nbconvert_exporter": "python",
   "pygments_lexer": "ipython3",
   "version": "3.9.5"
  }
 },
 "nbformat": 4,
 "nbformat_minor": 5
}
